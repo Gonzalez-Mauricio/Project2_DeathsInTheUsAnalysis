{
 "cells": [
  {
   "cell_type": "code",
   "execution_count": 2,
   "metadata": {},
   "outputs": [],
   "source": [
    "import pandas as pd"
   ]
  },
  {
   "cell_type": "code",
   "execution_count": 3,
   "metadata": {},
   "outputs": [],
   "source": [
    "csv_path = \"mortality/2015_data.csv\""
   ]
  },
  {
   "cell_type": "code",
   "execution_count": 6,
   "metadata": {},
   "outputs": [
    {
     "name": "stderr",
     "output_type": "stream",
     "text": [
      "/anaconda3/lib/python3.6/site-packages/IPython/core/interactiveshell.py:2785: DtypeWarning: Columns (40,41,42,43,61,62,63,64) have mixed types. Specify dtype option on import or set low_memory=False.\n",
      "  interactivity=interactivity, compiler=compiler, result=result)\n"
     ]
    }
   ],
   "source": [
    "deaths_df = pd.read_csv(csv_path, encoding=\"utf-8\")"
   ]
  },
  {
   "cell_type": "code",
   "execution_count": 7,
   "metadata": {},
   "outputs": [
    {
     "data": {
      "text/html": [
       "<div>\n",
       "<style scoped>\n",
       "    .dataframe tbody tr th:only-of-type {\n",
       "        vertical-align: middle;\n",
       "    }\n",
       "\n",
       "    .dataframe tbody tr th {\n",
       "        vertical-align: top;\n",
       "    }\n",
       "\n",
       "    .dataframe thead th {\n",
       "        text-align: right;\n",
       "    }\n",
       "</style>\n",
       "<table border=\"1\" class=\"dataframe\">\n",
       "  <thead>\n",
       "    <tr style=\"text-align: right;\">\n",
       "      <th></th>\n",
       "      <th>month_of_death</th>\n",
       "      <th>sex</th>\n",
       "      <th>age_recode_12</th>\n",
       "      <th>marital_status</th>\n",
       "      <th>day_of_week_of_death</th>\n",
       "      <th>current_data_year</th>\n",
       "      <th>manner_of_death</th>\n",
       "      <th>activity_code</th>\n",
       "      <th>race</th>\n",
       "      <th>hispanic_originrace_recode</th>\n",
       "    </tr>\n",
       "  </thead>\n",
       "  <tbody>\n",
       "    <tr>\n",
       "      <th>0</th>\n",
       "      <td>1</td>\n",
       "      <td>M</td>\n",
       "      <td>10</td>\n",
       "      <td>M</td>\n",
       "      <td>1</td>\n",
       "      <td>2015</td>\n",
       "      <td>7.0</td>\n",
       "      <td>NaN</td>\n",
       "      <td>1</td>\n",
       "      <td>6</td>\n",
       "    </tr>\n",
       "    <tr>\n",
       "      <th>1</th>\n",
       "      <td>1</td>\n",
       "      <td>M</td>\n",
       "      <td>9</td>\n",
       "      <td>M</td>\n",
       "      <td>2</td>\n",
       "      <td>2015</td>\n",
       "      <td>7.0</td>\n",
       "      <td>NaN</td>\n",
       "      <td>1</td>\n",
       "      <td>6</td>\n",
       "    </tr>\n",
       "    <tr>\n",
       "      <th>2</th>\n",
       "      <td>1</td>\n",
       "      <td>F</td>\n",
       "      <td>11</td>\n",
       "      <td>W</td>\n",
       "      <td>6</td>\n",
       "      <td>2015</td>\n",
       "      <td>7.0</td>\n",
       "      <td>NaN</td>\n",
       "      <td>1</td>\n",
       "      <td>6</td>\n",
       "    </tr>\n",
       "    <tr>\n",
       "      <th>3</th>\n",
       "      <td>1</td>\n",
       "      <td>F</td>\n",
       "      <td>6</td>\n",
       "      <td>S</td>\n",
       "      <td>5</td>\n",
       "      <td>2015</td>\n",
       "      <td>3.0</td>\n",
       "      <td>9.0</td>\n",
       "      <td>3</td>\n",
       "      <td>8</td>\n",
       "    </tr>\n",
       "    <tr>\n",
       "      <th>4</th>\n",
       "      <td>1</td>\n",
       "      <td>F</td>\n",
       "      <td>11</td>\n",
       "      <td>W</td>\n",
       "      <td>5</td>\n",
       "      <td>2015</td>\n",
       "      <td>7.0</td>\n",
       "      <td>NaN</td>\n",
       "      <td>1</td>\n",
       "      <td>6</td>\n",
       "    </tr>\n",
       "  </tbody>\n",
       "</table>\n",
       "</div>"
      ],
      "text/plain": [
       "   month_of_death sex  age_recode_12 marital_status  day_of_week_of_death  \\\n",
       "0               1   M             10              M                     1   \n",
       "1               1   M              9              M                     2   \n",
       "2               1   F             11              W                     6   \n",
       "3               1   F              6              S                     5   \n",
       "4               1   F             11              W                     5   \n",
       "\n",
       "   current_data_year  manner_of_death  activity_code  race  \\\n",
       "0               2015              7.0            NaN     1   \n",
       "1               2015              7.0            NaN     1   \n",
       "2               2015              7.0            NaN     1   \n",
       "3               2015              3.0            9.0     3   \n",
       "4               2015              7.0            NaN     1   \n",
       "\n",
       "   hispanic_originrace_recode  \n",
       "0                           6  \n",
       "1                           6  \n",
       "2                           6  \n",
       "3                           8  \n",
       "4                           6  "
      ]
     },
     "execution_count": 7,
     "metadata": {},
     "output_type": "execute_result"
    }
   ],
   "source": [
    "reduced_deaths_df = deaths_df[[\"month_of_death\", \"sex\", \"age_recode_12\", \"marital_status\",\n",
    "        \"day_of_week_of_death\", \"current_data_year\", \"manner_of_death\", \"activity_code\", \n",
    "        \"race\", \"hispanic_originrace_recode\"]]\n",
    "reduced_deaths_df.head()"
   ]
  },
  {
   "cell_type": "code",
   "execution_count": 9,
   "metadata": {},
   "outputs": [],
   "source": [
    "reduced_deaths_df.to_csv(\"mortality/reduced_deaths_df.csv\", index=False, header=True)"
   ]
  },
  {
   "cell_type": "code",
   "execution_count": null,
   "metadata": {},
   "outputs": [],
   "source": []
  }
 ],
 "metadata": {
  "kernelspec": {
   "display_name": "PythonData",
   "language": "python",
   "name": "pythondata"
  },
  "language_info": {
   "codemirror_mode": {
    "name": "ipython",
    "version": 3
   },
   "file_extension": ".py",
   "mimetype": "text/x-python",
   "name": "python",
   "nbconvert_exporter": "python",
   "pygments_lexer": "ipython3",
   "version": "3.6.5"
  }
 },
 "nbformat": 4,
 "nbformat_minor": 2
}
